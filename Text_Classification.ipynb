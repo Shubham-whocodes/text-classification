{
 "cells": [
  {
   "cell_type": "code",
   "execution_count": 1,
   "id": "88c08d72",
   "metadata": {},
   "outputs": [],
   "source": [
    "import spacy"
   ]
  },
  {
   "cell_type": "code",
   "execution_count": 2,
   "id": "ad6a9431",
   "metadata": {},
   "outputs": [
    {
     "data": {
      "text/html": [
       "<div>\n",
       "<style scoped>\n",
       "    .dataframe tbody tr th:only-of-type {\n",
       "        vertical-align: middle;\n",
       "    }\n",
       "\n",
       "    .dataframe tbody tr th {\n",
       "        vertical-align: top;\n",
       "    }\n",
       "\n",
       "    .dataframe thead th {\n",
       "        text-align: right;\n",
       "    }\n",
       "</style>\n",
       "<table border=\"1\" class=\"dataframe\">\n",
       "  <thead>\n",
       "    <tr style=\"text-align: right;\">\n",
       "      <th></th>\n",
       "      <th>Text</th>\n",
       "      <th>labels</th>\n",
       "    </tr>\n",
       "  </thead>\n",
       "  <tbody>\n",
       "    <tr>\n",
       "      <th>0</th>\n",
       "      <td>I am reading score of Mahler is Symphony No . .</td>\n",
       "      <td>Error</td>\n",
       "    </tr>\n",
       "    <tr>\n",
       "      <th>1</th>\n",
       "      <td>I am not interested in cars or electric applia...</td>\n",
       "      <td>Correct</td>\n",
       "    </tr>\n",
       "    <tr>\n",
       "      <th>2</th>\n",
       "      <td>This is my homework for my English class .</td>\n",
       "      <td>Error</td>\n",
       "    </tr>\n",
       "    <tr>\n",
       "      <th>3</th>\n",
       "      <td>In comparison , Canada is catches increased an...</td>\n",
       "      <td>Error</td>\n",
       "    </tr>\n",
       "    <tr>\n",
       "      <th>4</th>\n",
       "      <td>Fortunately , my older sister is friend is a d...</td>\n",
       "      <td>Correct</td>\n",
       "    </tr>\n",
       "    <tr>\n",
       "      <th>...</th>\n",
       "      <td>...</td>\n",
       "      <td>...</td>\n",
       "    </tr>\n",
       "    <tr>\n",
       "      <th>9994</th>\n",
       "      <td>That encouraged me to continue to study Englis...</td>\n",
       "      <td>Correct</td>\n",
       "    </tr>\n",
       "    <tr>\n",
       "      <th>9995</th>\n",
       "      <td>To improve my English listening skills ,</td>\n",
       "      <td>Correct</td>\n",
       "    </tr>\n",
       "    <tr>\n",
       "      <th>9996</th>\n",
       "      <td>And I collected many examples that body langua...</td>\n",
       "      <td>Correct</td>\n",
       "    </tr>\n",
       "    <tr>\n",
       "      <th>9997</th>\n",
       "      <td>One of his dreams was to be Captain Kirk .</td>\n",
       "      <td>Error</td>\n",
       "    </tr>\n",
       "    <tr>\n",
       "      <th>9998</th>\n",
       "      <td>Please check it out !</td>\n",
       "      <td>Error</td>\n",
       "    </tr>\n",
       "  </tbody>\n",
       "</table>\n",
       "<p>9999 rows × 2 columns</p>\n",
       "</div>"
      ],
      "text/plain": [
       "                                                   Text   labels\n",
       "0       I am reading score of Mahler is Symphony No . .    Error\n",
       "1     I am not interested in cars or electric applia...  Correct\n",
       "2            This is my homework for my English class .    Error\n",
       "3     In comparison , Canada is catches increased an...    Error\n",
       "4     Fortunately , my older sister is friend is a d...  Correct\n",
       "...                                                 ...      ...\n",
       "9994  That encouraged me to continue to study Englis...  Correct\n",
       "9995          To improve my English listening skills ,   Correct\n",
       "9996  And I collected many examples that body langua...  Correct\n",
       "9997         One of his dreams was to be Captain Kirk .    Error\n",
       "9998                              Please check it out !    Error\n",
       "\n",
       "[9999 rows x 2 columns]"
      ]
     },
     "execution_count": 2,
     "metadata": {},
     "output_type": "execute_result"
    }
   ],
   "source": [
    "import pandas as pd\n",
    "data= pd.read_csv('myData.csv')\n",
    "data"
   ]
  },
  {
   "cell_type": "code",
   "execution_count": 3,
   "id": "1e3f4846",
   "metadata": {},
   "outputs": [
    {
     "data": {
      "text/plain": [
       "Error      5004\n",
       "Correct    4853\n",
       "May Be       42\n",
       "Name: labels, dtype: int64"
      ]
     },
     "execution_count": 3,
     "metadata": {},
     "output_type": "execute_result"
    }
   ],
   "source": [
    "data.labels.value_counts()"
   ]
  },
  {
   "cell_type": "code",
   "execution_count": 19,
   "id": "898e89bf",
   "metadata": {},
   "outputs": [
    {
     "data": {
      "text/html": [
       "<div>\n",
       "<style scoped>\n",
       "    .dataframe tbody tr th:only-of-type {\n",
       "        vertical-align: middle;\n",
       "    }\n",
       "\n",
       "    .dataframe tbody tr th {\n",
       "        vertical-align: top;\n",
       "    }\n",
       "\n",
       "    .dataframe thead th {\n",
       "        text-align: right;\n",
       "    }\n",
       "</style>\n",
       "<table border=\"1\" class=\"dataframe\">\n",
       "  <thead>\n",
       "    <tr style=\"text-align: right;\">\n",
       "      <th></th>\n",
       "      <th>Text</th>\n",
       "      <th>labels</th>\n",
       "      <th>output</th>\n",
       "    </tr>\n",
       "  </thead>\n",
       "  <tbody>\n",
       "    <tr>\n",
       "      <th>0</th>\n",
       "      <td>I am reading score of Mahler is Symphony No . .</td>\n",
       "      <td>Error</td>\n",
       "      <td>1</td>\n",
       "    </tr>\n",
       "    <tr>\n",
       "      <th>1</th>\n",
       "      <td>I am not interested in cars or electric applia...</td>\n",
       "      <td>Correct</td>\n",
       "      <td>0</td>\n",
       "    </tr>\n",
       "    <tr>\n",
       "      <th>2</th>\n",
       "      <td>This is my homework for my English class .</td>\n",
       "      <td>Error</td>\n",
       "      <td>1</td>\n",
       "    </tr>\n",
       "    <tr>\n",
       "      <th>3</th>\n",
       "      <td>In comparison , Canada is catches increased an...</td>\n",
       "      <td>Error</td>\n",
       "      <td>1</td>\n",
       "    </tr>\n",
       "    <tr>\n",
       "      <th>4</th>\n",
       "      <td>Fortunately , my older sister is friend is a d...</td>\n",
       "      <td>Correct</td>\n",
       "      <td>0</td>\n",
       "    </tr>\n",
       "    <tr>\n",
       "      <th>...</th>\n",
       "      <td>...</td>\n",
       "      <td>...</td>\n",
       "      <td>...</td>\n",
       "    </tr>\n",
       "    <tr>\n",
       "      <th>9994</th>\n",
       "      <td>That encouraged me to continue to study Englis...</td>\n",
       "      <td>Correct</td>\n",
       "      <td>0</td>\n",
       "    </tr>\n",
       "    <tr>\n",
       "      <th>9995</th>\n",
       "      <td>To improve my English listening skills ,</td>\n",
       "      <td>Correct</td>\n",
       "      <td>0</td>\n",
       "    </tr>\n",
       "    <tr>\n",
       "      <th>9996</th>\n",
       "      <td>And I collected many examples that body langua...</td>\n",
       "      <td>Correct</td>\n",
       "      <td>0</td>\n",
       "    </tr>\n",
       "    <tr>\n",
       "      <th>9997</th>\n",
       "      <td>One of his dreams was to be Captain Kirk .</td>\n",
       "      <td>Error</td>\n",
       "      <td>1</td>\n",
       "    </tr>\n",
       "    <tr>\n",
       "      <th>9998</th>\n",
       "      <td>Please check it out !</td>\n",
       "      <td>Error</td>\n",
       "      <td>1</td>\n",
       "    </tr>\n",
       "  </tbody>\n",
       "</table>\n",
       "<p>9999 rows × 3 columns</p>\n",
       "</div>"
      ],
      "text/plain": [
       "                                                   Text   labels  output\n",
       "0       I am reading score of Mahler is Symphony No . .    Error       1\n",
       "1     I am not interested in cars or electric applia...  Correct       0\n",
       "2            This is my homework for my English class .    Error       1\n",
       "3     In comparison , Canada is catches increased an...    Error       1\n",
       "4     Fortunately , my older sister is friend is a d...  Correct       0\n",
       "...                                                 ...      ...     ...\n",
       "9994  That encouraged me to continue to study Englis...  Correct       0\n",
       "9995          To improve my English listening skills ,   Correct       0\n",
       "9996  And I collected many examples that body langua...  Correct       0\n",
       "9997         One of his dreams was to be Captain Kirk .    Error       1\n",
       "9998                              Please check it out !    Error       1\n",
       "\n",
       "[9999 rows x 3 columns]"
      ]
     },
     "execution_count": 19,
     "metadata": {},
     "output_type": "execute_result"
    }
   ],
   "source": [
    "from sklearn.preprocessing import LabelEncoder\n",
    "encoder = LabelEncoder()\n",
    "data['output'] = encoder.fit_transform(data['labels'])\n",
    "data"
   ]
  },
  {
   "cell_type": "code",
   "execution_count": 40,
   "id": "44bcc92c",
   "metadata": {},
   "outputs": [],
   "source": [
    "nlp = spacy.load(\"en_core_web_lg\")\n"
   ]
  },
  {
   "cell_type": "code",
   "execution_count": 43,
   "id": "51cc4970",
   "metadata": {},
   "outputs": [],
   "source": [
    "data['vector'] = data['Text'].astype(str).apply(lambda text: nlp(text).vector)  "
   ]
  },
  {
   "cell_type": "code",
   "execution_count": 44,
   "id": "3a12cd12",
   "metadata": {},
   "outputs": [
    {
     "data": {
      "text/html": [
       "<div>\n",
       "<style scoped>\n",
       "    .dataframe tbody tr th:only-of-type {\n",
       "        vertical-align: middle;\n",
       "    }\n",
       "\n",
       "    .dataframe tbody tr th {\n",
       "        vertical-align: top;\n",
       "    }\n",
       "\n",
       "    .dataframe thead th {\n",
       "        text-align: right;\n",
       "    }\n",
       "</style>\n",
       "<table border=\"1\" class=\"dataframe\">\n",
       "  <thead>\n",
       "    <tr style=\"text-align: right;\">\n",
       "      <th></th>\n",
       "      <th>Text</th>\n",
       "      <th>labels</th>\n",
       "      <th>output</th>\n",
       "      <th>vector</th>\n",
       "    </tr>\n",
       "  </thead>\n",
       "  <tbody>\n",
       "    <tr>\n",
       "      <th>0</th>\n",
       "      <td>I am reading score of Mahler is Symphony No . .</td>\n",
       "      <td>Error</td>\n",
       "      <td>1</td>\n",
       "      <td>[-0.7327181, -1.7527081, 0.4642664, -1.9000282...</td>\n",
       "    </tr>\n",
       "    <tr>\n",
       "      <th>1</th>\n",
       "      <td>I am not interested in cars or electric applia...</td>\n",
       "      <td>Correct</td>\n",
       "      <td>0</td>\n",
       "      <td>[-1.6445955, 0.45353, -3.791101, -2.2821543, 1...</td>\n",
       "    </tr>\n",
       "    <tr>\n",
       "      <th>2</th>\n",
       "      <td>This is my homework for my English class .</td>\n",
       "      <td>Error</td>\n",
       "      <td>1</td>\n",
       "      <td>[0.11857723, 0.30828005, -2.1158812, -3.270565...</td>\n",
       "    </tr>\n",
       "    <tr>\n",
       "      <th>3</th>\n",
       "      <td>In comparison , Canada is catches increased an...</td>\n",
       "      <td>Error</td>\n",
       "      <td>1</td>\n",
       "      <td>[-1.9795066, -0.8068078, -1.8556616, 0.3810011...</td>\n",
       "    </tr>\n",
       "    <tr>\n",
       "      <th>4</th>\n",
       "      <td>Fortunately , my older sister is friend is a d...</td>\n",
       "      <td>Correct</td>\n",
       "      <td>0</td>\n",
       "      <td>[-0.5611226, 1.7366109, -2.4873939, -2.0282624...</td>\n",
       "    </tr>\n",
       "    <tr>\n",
       "      <th>...</th>\n",
       "      <td>...</td>\n",
       "      <td>...</td>\n",
       "      <td>...</td>\n",
       "      <td>...</td>\n",
       "    </tr>\n",
       "    <tr>\n",
       "      <th>9994</th>\n",
       "      <td>That encouraged me to continue to study Englis...</td>\n",
       "      <td>Correct</td>\n",
       "      <td>0</td>\n",
       "      <td>[-0.37523368, 3.003442, -3.54865, -1.1602949, ...</td>\n",
       "    </tr>\n",
       "    <tr>\n",
       "      <th>9995</th>\n",
       "      <td>To improve my English listening skills ,</td>\n",
       "      <td>Correct</td>\n",
       "      <td>0</td>\n",
       "      <td>[1.8708316, 1.6995986, -1.9222928, -3.549183, ...</td>\n",
       "    </tr>\n",
       "    <tr>\n",
       "      <th>9996</th>\n",
       "      <td>And I collected many examples that body langua...</td>\n",
       "      <td>Correct</td>\n",
       "      <td>0</td>\n",
       "      <td>[-1.0953476, -0.01602141, -2.2004638, -0.48900...</td>\n",
       "    </tr>\n",
       "    <tr>\n",
       "      <th>9997</th>\n",
       "      <td>One of his dreams was to be Captain Kirk .</td>\n",
       "      <td>Error</td>\n",
       "      <td>1</td>\n",
       "      <td>[-4.033604, 1.8436931, -1.7736031, -1.3125851,...</td>\n",
       "    </tr>\n",
       "    <tr>\n",
       "      <th>9998</th>\n",
       "      <td>Please check it out !</td>\n",
       "      <td>Error</td>\n",
       "      <td>1</td>\n",
       "      <td>[4.0774, 1.90182, -2.436122, -0.5452021, 0.980...</td>\n",
       "    </tr>\n",
       "  </tbody>\n",
       "</table>\n",
       "<p>9999 rows × 4 columns</p>\n",
       "</div>"
      ],
      "text/plain": [
       "                                                   Text   labels  output  \\\n",
       "0       I am reading score of Mahler is Symphony No . .    Error       1   \n",
       "1     I am not interested in cars or electric applia...  Correct       0   \n",
       "2            This is my homework for my English class .    Error       1   \n",
       "3     In comparison , Canada is catches increased an...    Error       1   \n",
       "4     Fortunately , my older sister is friend is a d...  Correct       0   \n",
       "...                                                 ...      ...     ...   \n",
       "9994  That encouraged me to continue to study Englis...  Correct       0   \n",
       "9995          To improve my English listening skills ,   Correct       0   \n",
       "9996  And I collected many examples that body langua...  Correct       0   \n",
       "9997         One of his dreams was to be Captain Kirk .    Error       1   \n",
       "9998                              Please check it out !    Error       1   \n",
       "\n",
       "                                                 vector  \n",
       "0     [-0.7327181, -1.7527081, 0.4642664, -1.9000282...  \n",
       "1     [-1.6445955, 0.45353, -3.791101, -2.2821543, 1...  \n",
       "2     [0.11857723, 0.30828005, -2.1158812, -3.270565...  \n",
       "3     [-1.9795066, -0.8068078, -1.8556616, 0.3810011...  \n",
       "4     [-0.5611226, 1.7366109, -2.4873939, -2.0282624...  \n",
       "...                                                 ...  \n",
       "9994  [-0.37523368, 3.003442, -3.54865, -1.1602949, ...  \n",
       "9995  [1.8708316, 1.6995986, -1.9222928, -3.549183, ...  \n",
       "9996  [-1.0953476, -0.01602141, -2.2004638, -0.48900...  \n",
       "9997  [-4.033604, 1.8436931, -1.7736031, -1.3125851,...  \n",
       "9998  [4.0774, 1.90182, -2.436122, -0.5452021, 0.980...  \n",
       "\n",
       "[9999 rows x 4 columns]"
      ]
     },
     "execution_count": 44,
     "metadata": {},
     "output_type": "execute_result"
    }
   ],
   "source": [
    "data"
   ]
  },
  {
   "cell_type": "code",
   "execution_count": 87,
   "id": "64b9ee65",
   "metadata": {},
   "outputs": [],
   "source": [
    "from sklearn.model_selection import train_test_split\n",
    "xtr,xte,ytr,yte = train_test_split(data.vector,data.output,test_size=0.33,random_state=2022)"
   ]
  },
  {
   "cell_type": "code",
   "execution_count": 95,
   "id": "662e8e93",
   "metadata": {},
   "outputs": [],
   "source": [
    "from sklearn.ensemble import RandomForestClassifier\n",
    "from sklearn.preprocessing import MinMaxScaler\n",
    "scaler = MinMaxScaler()\n",
    "model = RandomForestClassifier()"
   ]
  },
  {
   "cell_type": "code",
   "execution_count": 96,
   "id": "8cf2d730",
   "metadata": {},
   "outputs": [],
   "source": [
    "import numpy as np\n",
    "x_train = np.stack(xtr)\n",
    "x_test = np.stack(xte)"
   ]
  },
  {
   "cell_type": "code",
   "execution_count": 105,
   "id": "289ea8f8",
   "metadata": {},
   "outputs": [
    {
     "name": "stdout",
     "output_type": "stream",
     "text": [
      "(6699, 300)\n",
      "(3300, 300)\n",
      "(6699,)\n",
      "(3300,)\n"
     ]
    },
    {
     "data": {
      "text/plain": [
       "array([[0.2791256 ],\n",
       "       [0.4775852 ],\n",
       "       [0.4189871 ],\n",
       "       ...,\n",
       "       [0.3395338 ],\n",
       "       [0.47331527],\n",
       "       [0.40232253]], dtype=float32)"
      ]
     },
     "execution_count": 105,
     "metadata": {},
     "output_type": "execute_result"
    }
   ],
   "source": [
    "scaled_train = scaler.fit_transform(x_train)\n",
    "scaled_test = scaler.fit_transform(x_test)\n",
    "print(scaled_train.shape)\n",
    "print(scaled_test.shape)\n",
    "print(ytr.shape)\n",
    "print(yte.shape)\n",
    "scaled_train.reshape(2009700,1)\n",
    "scaled_test.reshape(990000,1)"
   ]
  },
  {
   "cell_type": "code",
   "execution_count": 106,
   "id": "74e2d83a",
   "metadata": {},
   "outputs": [
    {
     "data": {
      "text/html": [
       "<style>#sk-container-id-8 {color: black;background-color: white;}#sk-container-id-8 pre{padding: 0;}#sk-container-id-8 div.sk-toggleable {background-color: white;}#sk-container-id-8 label.sk-toggleable__label {cursor: pointer;display: block;width: 100%;margin-bottom: 0;padding: 0.3em;box-sizing: border-box;text-align: center;}#sk-container-id-8 label.sk-toggleable__label-arrow:before {content: \"▸\";float: left;margin-right: 0.25em;color: #696969;}#sk-container-id-8 label.sk-toggleable__label-arrow:hover:before {color: black;}#sk-container-id-8 div.sk-estimator:hover label.sk-toggleable__label-arrow:before {color: black;}#sk-container-id-8 div.sk-toggleable__content {max-height: 0;max-width: 0;overflow: hidden;text-align: left;background-color: #f0f8ff;}#sk-container-id-8 div.sk-toggleable__content pre {margin: 0.2em;color: black;border-radius: 0.25em;background-color: #f0f8ff;}#sk-container-id-8 input.sk-toggleable__control:checked~div.sk-toggleable__content {max-height: 200px;max-width: 100%;overflow: auto;}#sk-container-id-8 input.sk-toggleable__control:checked~label.sk-toggleable__label-arrow:before {content: \"▾\";}#sk-container-id-8 div.sk-estimator input.sk-toggleable__control:checked~label.sk-toggleable__label {background-color: #d4ebff;}#sk-container-id-8 div.sk-label input.sk-toggleable__control:checked~label.sk-toggleable__label {background-color: #d4ebff;}#sk-container-id-8 input.sk-hidden--visually {border: 0;clip: rect(1px 1px 1px 1px);clip: rect(1px, 1px, 1px, 1px);height: 1px;margin: -1px;overflow: hidden;padding: 0;position: absolute;width: 1px;}#sk-container-id-8 div.sk-estimator {font-family: monospace;background-color: #f0f8ff;border: 1px dotted black;border-radius: 0.25em;box-sizing: border-box;margin-bottom: 0.5em;}#sk-container-id-8 div.sk-estimator:hover {background-color: #d4ebff;}#sk-container-id-8 div.sk-parallel-item::after {content: \"\";width: 100%;border-bottom: 1px solid gray;flex-grow: 1;}#sk-container-id-8 div.sk-label:hover label.sk-toggleable__label {background-color: #d4ebff;}#sk-container-id-8 div.sk-serial::before {content: \"\";position: absolute;border-left: 1px solid gray;box-sizing: border-box;top: 0;bottom: 0;left: 50%;z-index: 0;}#sk-container-id-8 div.sk-serial {display: flex;flex-direction: column;align-items: center;background-color: white;padding-right: 0.2em;padding-left: 0.2em;position: relative;}#sk-container-id-8 div.sk-item {position: relative;z-index: 1;}#sk-container-id-8 div.sk-parallel {display: flex;align-items: stretch;justify-content: center;background-color: white;position: relative;}#sk-container-id-8 div.sk-item::before, #sk-container-id-8 div.sk-parallel-item::before {content: \"\";position: absolute;border-left: 1px solid gray;box-sizing: border-box;top: 0;bottom: 0;left: 50%;z-index: -1;}#sk-container-id-8 div.sk-parallel-item {display: flex;flex-direction: column;z-index: 1;position: relative;background-color: white;}#sk-container-id-8 div.sk-parallel-item:first-child::after {align-self: flex-end;width: 50%;}#sk-container-id-8 div.sk-parallel-item:last-child::after {align-self: flex-start;width: 50%;}#sk-container-id-8 div.sk-parallel-item:only-child::after {width: 0;}#sk-container-id-8 div.sk-dashed-wrapped {border: 1px dashed gray;margin: 0 0.4em 0.5em 0.4em;box-sizing: border-box;padding-bottom: 0.4em;background-color: white;}#sk-container-id-8 div.sk-label label {font-family: monospace;font-weight: bold;display: inline-block;line-height: 1.2em;}#sk-container-id-8 div.sk-label-container {text-align: center;}#sk-container-id-8 div.sk-container {/* jupyter's `normalize.less` sets `[hidden] { display: none; }` but bootstrap.min.css set `[hidden] { display: none !important; }` so we also need the `!important` here to be able to override the default hidden behavior on the sphinx rendered scikit-learn.org. See: https://github.com/scikit-learn/scikit-learn/issues/21755 */display: inline-block !important;position: relative;}#sk-container-id-8 div.sk-text-repr-fallback {display: none;}</style><div id=\"sk-container-id-8\" class=\"sk-top-container\"><div class=\"sk-text-repr-fallback\"><pre>RandomForestClassifier()</pre><b>In a Jupyter environment, please rerun this cell to show the HTML representation or trust the notebook. <br />On GitHub, the HTML representation is unable to render, please try loading this page with nbviewer.org.</b></div><div class=\"sk-container\" hidden><div class=\"sk-item\"><div class=\"sk-estimator sk-toggleable\"><input class=\"sk-toggleable__control sk-hidden--visually\" id=\"sk-estimator-id-8\" type=\"checkbox\" checked><label for=\"sk-estimator-id-8\" class=\"sk-toggleable__label sk-toggleable__label-arrow\">RandomForestClassifier</label><div class=\"sk-toggleable__content\"><pre>RandomForestClassifier()</pre></div></div></div></div></div>"
      ],
      "text/plain": [
       "RandomForestClassifier()"
      ]
     },
     "execution_count": 106,
     "metadata": {},
     "output_type": "execute_result"
    }
   ],
   "source": [
    "model.fit(scaled_train,ytr)"
   ]
  },
  {
   "cell_type": "code",
   "execution_count": 107,
   "id": "10e473cd",
   "metadata": {},
   "outputs": [],
   "source": [
    "prediction = model.predict(scaled_test)"
   ]
  },
  {
   "cell_type": "code",
   "execution_count": 108,
   "id": "a2bc6117",
   "metadata": {},
   "outputs": [
    {
     "name": "stdout",
     "output_type": "stream",
     "text": [
      "              precision    recall  f1-score   support\n",
      "\n",
      "           0       0.47      0.49      0.48      1590\n",
      "           1       0.49      0.49      0.49      1662\n",
      "           2       0.00      0.00      0.00        13\n",
      "           3       0.00      0.00      0.00        35\n",
      "\n",
      "    accuracy                           0.48      3300\n",
      "   macro avg       0.24      0.24      0.24      3300\n",
      "weighted avg       0.47      0.48      0.48      3300\n",
      "\n"
     ]
    },
    {
     "name": "stderr",
     "output_type": "stream",
     "text": [
      "/Library/Frameworks/Python.framework/Versions/3.10/lib/python3.10/site-packages/sklearn/metrics/_classification.py:1334: UndefinedMetricWarning: Precision and F-score are ill-defined and being set to 0.0 in labels with no predicted samples. Use `zero_division` parameter to control this behavior.\n",
      "  _warn_prf(average, modifier, msg_start, len(result))\n",
      "/Library/Frameworks/Python.framework/Versions/3.10/lib/python3.10/site-packages/sklearn/metrics/_classification.py:1334: UndefinedMetricWarning: Precision and F-score are ill-defined and being set to 0.0 in labels with no predicted samples. Use `zero_division` parameter to control this behavior.\n",
      "  _warn_prf(average, modifier, msg_start, len(result))\n",
      "/Library/Frameworks/Python.framework/Versions/3.10/lib/python3.10/site-packages/sklearn/metrics/_classification.py:1334: UndefinedMetricWarning: Precision and F-score are ill-defined and being set to 0.0 in labels with no predicted samples. Use `zero_division` parameter to control this behavior.\n",
      "  _warn_prf(average, modifier, msg_start, len(result))\n"
     ]
    }
   ],
   "source": [
    "from sklearn.metrics import classification_report\n",
    "print(classification_report(yte,prediction))"
   ]
  },
  {
   "cell_type": "code",
   "execution_count": 109,
   "id": "368a4180",
   "metadata": {},
   "outputs": [
    {
     "data": {
      "text/plain": [
       "Text(95.72222222222221, 0.5, 'Actual')"
      ]
     },
     "execution_count": 109,
     "metadata": {},
     "output_type": "execute_result"
    },
    {
     "data": {
      "image/png": "[encoded data removed]",
      "text/plain": [
       "<Figure size 1000x700 with 2 Axes>"
      ]
     },
     "metadata": {},
     "output_type": "display_data"
    }
   ],
   "source": [
    "from sklearn.metrics import confusion_matrix\n",
    "cm = confusion_matrix(yte, prediction)\n",
    "cm\n",
    "\n",
    "from matplotlib import pyplot as plt\n",
    "import seaborn as sn\n",
    "plt.figure(figsize = (10,7))\n",
    "sn.heatmap(cm, annot=True, fmt='d')\n",
    "plt.xlabel('Prediction')\n",
    "plt.ylabel('Actual')"
   ]
  },
  {
   "cell_type": "code",
   "execution_count": null,
   "id": "f2995f06",
   "metadata": {},
   "outputs": [],
   "source": []
  }
 ],
 "metadata": {
  "kernelspec": {
   "display_name": "Python 3 (ipykernel)",
   "language": "python",
   "name": "python3"
  },
  "language_info": {
   "codemirror_mode": {
    "name": "ipython",
    "version": 3
   },
   "file_extension": ".py",
   "mimetype": "text/x-python",
   "name": "python",
   "nbconvert_exporter": "python",
   "pygments_lexer": "ipython3",
   "version": "3.10.6"
  }
 },
 "nbformat": 4,
 "nbformat_minor": 5
}
